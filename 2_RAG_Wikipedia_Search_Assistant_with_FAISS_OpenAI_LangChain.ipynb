{
  "nbformat": 4,
  "nbformat_minor": 0,
  "metadata": {
    "colab": {
      "provenance": [],
      "machine_shape": "hm",
      "gpuType": "L4"
    },
    "kernelspec": {
      "display_name": "Python 3",
      "name": "python3"
    },
    "language_info": {
      "codemirror_mode": {
        "name": "ipython",
        "version": 3
      },
      "file_extension": ".py",
      "mimetype": "text/x-python",
      "name": "python",
      "nbconvert_exporter": "python",
      "pygments_lexer": "ipython3",
      "version": "3.7.0"
    },
    "accelerator": "GPU"
  },
  "cells": [
    {
      "cell_type": "markdown",
      "metadata": {
        "id": "ovtRPGnBClBp"
      },
      "source": [
        "# RAG Implementation For Wikipedia Search Assistant with FAISS Vector Library, OpenAI and LangChain\n",
        "\n",
        "## References:\n",
        "\n",
        "1. Tutorial \"FAISS Vector Library with LangChain and OpenAI (Semantic Search)\" by RyanNolanData, available at [this link](https://www.youtube.com/watch?v=ZCSsIkyCZk4).\n",
        "\n",
        "2. [Wikipedia]('https://en.wikipedia.org/wiki/')\n"
      ]
    },
    {
      "cell_type": "markdown",
      "metadata": {
        "id": "hX6_EK-OC8Hj"
      },
      "source": [
        "## Description\n",
        "The goal of this experiment is to implement a Retrieval-Augmented Generation (RAG) pipeline, by using FAISS vector library, to answer user queries by combining document retrieval from Wikipedia.\n",
        "\n"
      ]
    },
    {
      "cell_type": "markdown",
      "metadata": {
        "id": "ogBqRbYYFi5Q"
      },
      "source": [
        "##Setup"
      ]
    },
    {
      "cell_type": "code",
      "metadata": {
        "colab": {
          "base_uri": "https://localhost:8080/"
        },
        "id": "pQ9MCP86FwVv",
        "outputId": "861dae5e-91f3-4cf2-fcab-22a2efe668e5"
      },
      "source": [
        "from google.colab import drive\n",
        "drive.mount('/content/drive')"
      ],
      "execution_count": 1,
      "outputs": [
        {
          "output_type": "stream",
          "name": "stdout",
          "text": [
            "Mounted at /content/drive\n"
          ]
        }
      ]
    },
    {
      "cell_type": "code",
      "source": [
        "cd \"YOUR-PATH\""
      ],
      "metadata": {
        "id": "qE6VeiwaYKXF",
        "colab": {
          "base_uri": "https://localhost:8080/"
        },
        "outputId": "1e99358a-bc5f-4046-8592-3cbdf0e74a07"
      },
      "execution_count": 2,
      "outputs": [
        {
          "output_type": "stream",
          "name": "stdout",
          "text": [
            "/content/drive/MyDrive/2-DL-ML/14_GenAI/2_RAG_Wikipedia\n"
          ]
        }
      ]
    },
    {
      "cell_type": "code",
      "metadata": {
        "id": "6i4rA3qWClBt",
        "collapsed": true
      },
      "source": [
        "# Install necessary libraries\n",
        "%%capture\n",
        "!pip install langchain langchain-openai langchain-community wikipedia wikipedia-api faiss-cpu chromadb tiktoken sentence-transformers openai\n"
      ],
      "execution_count": 3,
      "outputs": []
    },
    {
      "cell_type": "code",
      "source": [
        "# Import Libraries. These libraries will be used to build the RAG pipeline\n",
        "\n",
        "from langchain_openai import OpenAI\n",
        "from langchain_community.document_loaders import WikipediaLoader\n",
        "from langchain.text_splitter import RecursiveCharacterTextSplitter\n",
        "from langchain_openai import OpenAIEmbeddings\n",
        "from langchain_community.vectorstores import FAISS\n",
        "from langchain_core.vectorstores import VectorStoreRetriever\n",
        "from langchain.chains import RetrievalQA\n",
        "from langchain.chat_models import ChatOpenAI"
      ],
      "metadata": {
        "id": "ozvIKlYCF6tc"
      },
      "execution_count": null,
      "outputs": []
    },
    {
      "cell_type": "code",
      "source": [
        "# Set up OpenAI API Key\n",
        "import os\n",
        "os.environ['OPENAI_API_KEY'] = 'YOUR_OPENAI_API_KEY'"
      ],
      "metadata": {
        "id": "Tc0keBgjYWGP"
      },
      "execution_count": 5,
      "outputs": []
    },
    {
      "cell_type": "code",
      "source": [
        "# Load Wikipedia Articles\n",
        "# Define a function to fetch Wikipedia articles and convert them into documents\n",
        "def load_wikipedia_articles(queries):\n",
        "    documents = []\n",
        "    for query in queries:\n",
        "        try:\n",
        "            loader = WikipediaLoader(query=query)\n",
        "            docs = loader.load()\n",
        "            documents.extend(docs)\n",
        "        except Exception as e:\n",
        "            print(f\"Error loading {query}: {e}\")\n",
        "    return documents"
      ],
      "metadata": {
        "id": "4TKzk11-7Hep"
      },
      "execution_count": 6,
      "outputs": []
    },
    {
      "cell_type": "code",
      "source": [
        "# Load Wikipedia articles based on user-defined query\n",
        "query = [\"Artificial Intelligence\"]\n",
        "documents = load_wikipedia_articles(query)\n",
        "print(f\"Loaded {len(documents)} documents.\")"
      ],
      "metadata": {
        "colab": {
          "base_uri": "https://localhost:8080/"
        },
        "id": "HuCGyGt47HhQ",
        "outputId": "8d5643f8-6529-4b14-b715-c14727bc7c75"
      },
      "execution_count": 7,
      "outputs": [
        {
          "output_type": "stream",
          "name": "stdout",
          "text": [
            "Loaded 25 documents.\n"
          ]
        }
      ]
    },
    {
      "cell_type": "code",
      "source": [
        "# Define RecursiveCharacterTextSplitter\n",
        "text_splitter = RecursiveCharacterTextSplitter(\n",
        "    chunk_size=500,\n",
        "    chunk_overlap=0,\n",
        "    length_function=len\n",
        ")"
      ],
      "metadata": {
        "id": "WjsynqVR7sy8"
      },
      "execution_count": 8,
      "outputs": []
    },
    {
      "cell_type": "code",
      "source": [
        "# Split the loaded documents into smaller chunks based on the text splitter configuration\n",
        "docs = text_splitter.split_documents(documents)"
      ],
      "metadata": {
        "id": "MZXWDaIO7s4d"
      },
      "execution_count": 9,
      "outputs": []
    },
    {
      "cell_type": "code",
      "source": [
        "# Print the total number of chunks created after splitting the documents\n",
        "len(docs)"
      ],
      "metadata": {
        "colab": {
          "base_uri": "https://localhost:8080/"
        },
        "id": "rl6zWzkR8KgI",
        "outputId": "36cc7f0d-93b8-4a7d-826a-89289f33992e"
      },
      "execution_count": 10,
      "outputs": [
        {
          "output_type": "execute_result",
          "data": {
            "text/plain": [
              "313"
            ]
          },
          "metadata": {},
          "execution_count": 10
        }
      ]
    },
    {
      "cell_type": "code",
      "source": [
        "# Display the first chunk\n",
        "docs[0]"
      ],
      "metadata": {
        "colab": {
          "base_uri": "https://localhost:8080/"
        },
        "id": "t66EDCAo7s7C",
        "outputId": "ad544709-c3a1-4dd1-d037-2b263bd89fac"
      },
      "execution_count": 11,
      "outputs": [
        {
          "output_type": "execute_result",
          "data": {
            "text/plain": [
              "Document(metadata={'title': 'Artificial intelligence', 'summary': 'Artificial intelligence (AI), in its broadest sense, is intelligence exhibited by machines, particularly computer systems. It is a field of research in computer science that develops and studies methods and software that enable machines to perceive their environment and use learning and intelligence to take actions that maximize their chances of achieving defined goals. Such machines may be called AIs.\\nHigh-profile applications of AI include advanced web search engines (e.g., Google Search); recommendation systems (used by YouTube, Amazon, and Netflix); virtual assistants (e.g., Google Assistant, Siri, and Alexa); autonomous vehicles (e.g., Waymo); generative and creative tools (e.g., ChatGPT and AI art); and superhuman play and analysis in strategy games (e.g., chess and Go). However, many AI applications are not perceived as AI: \"A lot of cutting edge AI has filtered into general applications, often without being called AI because once something becomes useful enough and common enough it\\'s not labeled AI anymore.\"\\nVarious subfields of AI research are centered around particular goals and the use of particular tools. The traditional goals of AI research include reasoning, knowledge representation, planning, learning, natural language processing, perception, and support for robotics. General intelligence—the ability to complete any task performed by a human on an at least equal level—is among the field\\'s long-term goals. To reach these goals, AI researchers have adapted and integrated a wide range of techniques, including search and mathematical optimization, formal logic, artificial neural networks, and methods based on statistics, operations research, and economics. AI also draws upon psychology, linguistics, philosophy, neuroscience, and other fields.\\nArtificial intelligence was founded as an academic discipline in 1956, and the field went through multiple cycles of optimism throughout its history, followed by periods of disappointment and loss of funding, known as AI winters. Funding and interest vastly increased after 2012 when deep learning outperformed previous AI techniques. This growth accelerated further after 2017 with the transformer architecture, and by the early 2020s many billions of dollars were being invested in AI and the field experienced rapid ongoing progress in what has become known as the AI boom. The emergence of advanced generative AI in the midst of the AI boom and its ability to create and modify content exposed several unintended consequences and harms in the present and raised concerns about the risks of AI and its long-term effects in the future, prompting discussions about regulatory policies to ensure the safety and benefits of the technology.\\n\\n', 'source': 'https://en.wikipedia.org/wiki/Artificial_intelligence'}, page_content='Artificial intelligence (AI), in its broadest sense, is intelligence exhibited by machines, particularly computer systems. It is a field of research in computer science that develops and studies methods and software that enable machines to perceive their environment and use learning and intelligence to take actions that maximize their chances of achieving defined goals. Such machines may be called AIs.')"
            ]
          },
          "metadata": {},
          "execution_count": 11
        }
      ]
    },
    {
      "cell_type": "code",
      "source": [
        "# Initialize the OpenAI Embeddings model\n",
        "embedding = OpenAIEmbeddings()"
      ],
      "metadata": {
        "id": "v-Z32ya37s9z"
      },
      "execution_count": 12,
      "outputs": []
    },
    {
      "cell_type": "code",
      "source": [
        "# Create a FAISS vector store from the splitted text documents and their embeddings\n",
        "library = FAISS.from_documents(docs, embedding)"
      ],
      "metadata": {
        "id": "sCt5-Tlo7tAq"
      },
      "execution_count": 13,
      "outputs": []
    },
    {
      "cell_type": "code",
      "source": [
        "# Define an example of user query\n",
        "query = \"What is the impact of Artificial Intelligence on society?\""
      ],
      "metadata": {
        "id": "_dB2vUPo7tDR"
      },
      "execution_count": 14,
      "outputs": []
    },
    {
      "cell_type": "code",
      "source": [
        "# Perform a similarity search in the vector store using the query\n",
        "query_answer = library.similarity_search(query)"
      ],
      "metadata": {
        "id": "AJn0zfZv7tGQ"
      },
      "execution_count": 15,
      "outputs": []
    },
    {
      "cell_type": "code",
      "source": [
        "# Print the content of the first retrieved document chunk\n",
        "print(query_answer[0].page_content)"
      ],
      "metadata": {
        "colab": {
          "base_uri": "https://localhost:8080/"
        },
        "id": "F33JZJEB7tIX",
        "outputId": "3ff4914e-80d7-4fb4-fe36-0fe5f15b0fec"
      },
      "execution_count": 16,
      "outputs": [
        {
          "output_type": "stream",
          "name": "stdout",
          "text": [
            "the future of AI and its impact on society.\n"
          ]
        }
      ]
    },
    {
      "cell_type": "code",
      "source": [
        "# Print the content of the second retrieved document chunk\n",
        "print(query_answer[1].page_content)"
      ],
      "metadata": {
        "colab": {
          "base_uri": "https://localhost:8080/"
        },
        "id": "2sTD0PKL7tLL",
        "outputId": "7eaa822a-50b1-4aa6-e539-af0c7e317c3c"
      },
      "execution_count": 17,
      "outputs": [
        {
          "output_type": "stream",
          "name": "stdout",
          "text": [
            "The philosophy of artificial intelligence attempts to answer such questions as follows:\n"
          ]
        }
      ]
    },
    {
      "cell_type": "code",
      "source": [
        "# Perform a similarity search that also returns scores for each result\n",
        "docs_and_scores = library.similarity_search_with_score(query)"
      ],
      "metadata": {
        "id": "3EYZsoJR7tNw"
      },
      "execution_count": 18,
      "outputs": []
    },
    {
      "cell_type": "code",
      "source": [
        "# Print the first retrieved document chunk along with its similarity score\n",
        "docs_and_scores[0]"
      ],
      "metadata": {
        "colab": {
          "base_uri": "https://localhost:8080/"
        },
        "id": "qDqwGBKm7tQV",
        "outputId": "fd4f3e15-e862-4c51-e671-01e9425fb405"
      },
      "execution_count": 19,
      "outputs": [
        {
          "output_type": "execute_result",
          "data": {
            "text/plain": [
              "(Document(id='a95ef3f4-4b66-4ee6-bb07-6d0fad97b8ea', metadata={'title': 'History of artificial intelligence', 'summary': 'The history of artificial intelligence (AI) began in antiquity, with myths, stories, and rumors of artificial beings endowed with intelligence or consciousness by master craftsmen. The study of logic and formal reasoning from antiquity to the present led directly to the invention of the programmable digital computer in the 1940s, a machine based on abstract mathematical reasoning. This device and the ideas behind it inspired scientists to begin discussing the possibility of building an electronic brain.\\nThe field of AI research was founded at a workshop held on the campus of Dartmouth College in 1956. Attendees of the workshop became the leaders of AI research for decades. Many of them predicted that machines as intelligent as humans would exist within a generation. The U.S. government provided millions of dollars with the hope of making this vision come true.\\nEventually, it became obvious that researchers had grossly underestimated the difficulty of this feat. In 1974, criticism from James Lighthill and pressure from the U.S. Congress led the U.S. and British Governments to stop funding undirected research into artificial intelligence. Seven years later, a visionary initiative by the Japanese Government and the success of expert systems  reinvigorated investment in AI, and by the late 1980s, the industry had grown into a billion-dollar enterprise. However, investors\\' enthusiasm waned in the 1990s, and the field was criticized in the press and avoided by industry (a period known as an \"AI winter\"). Nevertheless, research and funding continued to grow under other names.\\nIn the early 2000s, machine learning was applied to a wide range of problems in academia and industry. The success was due to the availability of powerful computer hardware, the collection of immense data sets, and the application of solid mathematical methods. Soon after, deep learning proved to be a breakthrough technology, eclipsing all other methods. The transformer architecture debuted in 2017 and was used to produce impressive generative AI applications, amongst other use cases.\\nInvestment in AI boomed in the 2020s. The recent AI boom, initiated by the development of transformer architecture, led to the rapid scaling and public releases of large language models (LLMs) like ChatGPT. These models exhibit human-like traits of knowledge, attention, and creativity, and have been integrated into various sectors, fueling exponential investment in AI. However, concerns about the potential risks and ethical implications of advanced AI have also emerged, prompting debate about the future of AI and its impact on society.\\n\\n', 'source': 'https://en.wikipedia.org/wiki/History_of_artificial_intelligence'}, page_content='the future of AI and its impact on society.'),\n",
              " 0.13590689)"
            ]
          },
          "metadata": {},
          "execution_count": 19
        }
      ]
    },
    {
      "cell_type": "code",
      "source": [
        "# Print the second retrieved document chunk along with its similarity score\n",
        "docs_and_scores[1]"
      ],
      "metadata": {
        "colab": {
          "base_uri": "https://localhost:8080/"
        },
        "id": "wDnCBvzm7tTJ",
        "outputId": "f5b8c723-10b6-490b-d0c6-e369272cef17"
      },
      "execution_count": 20,
      "outputs": [
        {
          "output_type": "execute_result",
          "data": {
            "text/plain": [
              "(Document(id='b2224e0a-570e-42eb-a4d4-39195e0669b3', metadata={'title': 'Philosophy of artificial intelligence', 'summary': 'The philosophy of artificial intelligence is a branch of the philosophy of mind and the philosophy of computer science that explores artificial intelligence and its implications for knowledge and understanding of intelligence, ethics, consciousness, epistemology, and free will. Furthermore, the technology is concerned with the creation of artificial animals or artificial people (or, at least, artificial creatures; see artificial life) so the discipline is of considerable interest to philosophers. These factors contributed to the emergence of the philosophy of artificial intelligence.\\nThe philosophy of artificial intelligence attempts to answer such questions as follows:\\n\\nCan a machine act intelligently? Can it solve any problem that a person would solve by thinking?\\nAre human intelligence and machine intelligence the same? Is the human brain essentially a computer?\\nCan a machine have a mind, mental states, and consciousness in the same sense that a human being can? Can it feel how things are? (i.e. does it have qualia?)\\nQuestions like these reflect the divergent interests of AI researchers, cognitive scientists and philosophers respectively. The scientific answers to these questions depend on the definition of \"intelligence\" and \"consciousness\" and exactly which \"machines\" are under discussion.\\nImportant propositions in the philosophy of AI include some of the following:\\n\\nTuring\\'s \"polite convention\": If a machine behaves as intelligently as a human being, then it is as intelligent as a human being.\\nThe Dartmouth proposal: \"Every aspect of learning or any other feature of intelligence can in principle be so precisely described that a machine can be made to simulate it.\"\\nAllen Newell and Herbert A. Simon\\'s physical symbol system hypothesis: \"A physical symbol system has the necessary and sufficient means of general intelligent action.\"\\nJohn Searle\\'s strong AI hypothesis: \"The appropriately programmed computer with the right inputs and outputs would thereby have a mind in exactly the same sense human beings have minds.\"\\nHobbes\\' mechanism: \"For \\'reason\\' ... is nothing but \\'reckoning,\\' that is adding and subtracting, of the consequences of general names agreed upon for the \\'marking\\' and \\'signifying\\' of our thoughts...\"', 'source': 'https://en.wikipedia.org/wiki/Philosophy_of_artificial_intelligence'}, page_content='The philosophy of artificial intelligence attempts to answer such questions as follows:'),\n",
              " 0.25201774)"
            ]
          },
          "metadata": {},
          "execution_count": 20
        }
      ]
    },
    {
      "cell_type": "code",
      "source": [
        "# Print the third retrieved document chunk along with its similarity score\n",
        "docs_and_scores[2]"
      ],
      "metadata": {
        "colab": {
          "base_uri": "https://localhost:8080/"
        },
        "id": "-78rnla47tVv",
        "outputId": "534f4502-8590-49b3-b5fe-0bcf93a0ea20"
      },
      "execution_count": 21,
      "outputs": [
        {
          "output_type": "execute_result",
          "data": {
            "text/plain": [
              "(Document(id='e239effc-6a4e-4b12-8e23-5648179678c4', metadata={'title': 'Artificial intelligence in India', 'summary': \"The AI market in India is projected to reach $8 billion by 2025, growing at a compound annual growth rate (CAGR) of over 40% from 2020 to 2025. \\nThis growth is part of the broader AI boom, a global period of rapid technological advancements starting in the late 2010s and gaining prominence in the early 2020s. Globally, breakthroughs in protein folding by Google DeepMind and the rise of generative AI models from OpenAI have defined this era. In India, the development of AI has been similarly transformative, with applications in healthcare, finance, and education, bolstered by government initiatives like NITI Aayog's 2018 National Strategy for Artificial Intelligence.\\nWhile AI presents significant opportunities for economic growth and social development in India, challenges such as data privacy concerns, skill shortages, and ethical considerations need to be addressed for responsible AI deployment.\", 'source': 'https://en.wikipedia.org/wiki/Artificial_intelligence_in_India'}, page_content='Strategy for Artificial Intelligence.'),\n",
              " 0.2693885)"
            ]
          },
          "metadata": {},
          "execution_count": 21
        }
      ]
    },
    {
      "cell_type": "code",
      "source": [
        "# Create a retriever from the FAISS vector store\n",
        "retriever = library.as_retriever()"
      ],
      "metadata": {
        "id": "Jvaadmma-QtQ"
      },
      "execution_count": 39,
      "outputs": []
    },
    {
      "cell_type": "code",
      "source": [
        "# Create a RetrievalQA chain using the retriever and LLM\n",
        "qa = RetrievalQA.from_chain_type(\n",
        "    llm=ChatOpenAI(model=\"gpt-4o-mini\"),\n",
        "    chain_type=\"stuff\",\n",
        "    retriever=retriever,\n",
        "    return_source_documents=True\n",
        ")"
      ],
      "metadata": {
        "id": "ndb0AiOy-Qv0"
      },
      "execution_count": 40,
      "outputs": []
    },
    {
      "cell_type": "code",
      "source": [
        "# Define the user's query to retrieve relevant information from the vector store\n",
        "retriever_query = \"What is the impact of Artificial Intelligence on society?\""
      ],
      "metadata": {
        "id": "Qe7OIpwH-QyW"
      },
      "execution_count": 41,
      "outputs": []
    },
    {
      "cell_type": "code",
      "source": [
        "# Use the QA chain to process the query and retrieve the results\n",
        "results = qa.invoke(retriever_query)"
      ],
      "metadata": {
        "id": "AfKN2doR-Q3v"
      },
      "execution_count": 45,
      "outputs": []
    },
    {
      "cell_type": "code",
      "source": [
        "# Process and display the query and result:\n",
        "def display_result(query, result):\n",
        "    print(\"\\n=== Query ===\")\n",
        "    print(query)  # Print the retriever query\n",
        "\n",
        "    print(\"\\n=== Answer ===\")\n",
        "    print(result[\"result\"])  # Print the answer\n",
        "\n",
        "    print(\"\\n=== Sources ===\")\n",
        "    for idx, source in enumerate(result[\"source_documents\"], start=1):\n",
        "        print(f\"{idx}. {source.metadata.get('source', 'Unknown Source')}\")\n",
        "\n",
        "results = qa.invoke(retriever_query)\n",
        "display_result(retriever_query, results)"
      ],
      "metadata": {
        "colab": {
          "base_uri": "https://localhost:8080/"
        },
        "id": "DwSN7XMGLr9J",
        "outputId": "927a0ed5-9c0e-4a8f-b804-ed9d55ec7249"
      },
      "execution_count": 46,
      "outputs": [
        {
          "output_type": "stream",
          "name": "stdout",
          "text": [
            "\n",
            "=== Query ===\n",
            "What is the impact of Artificial Intelligence on society?\n",
            "\n",
            "=== Answer ===\n",
            "The impact of Artificial Intelligence on society encompasses a wide range of areas, including:\n",
            "\n",
            "1. **Economic Changes**: AI can lead to technological unemployment as machines take over tasks previously performed by humans. This may result in job displacement but could also create new job opportunities in AI-related fields.\n",
            "\n",
            "2. **Ethical Considerations**: The development of machine ethics raises questions about how to ensure AI behaves in ways that align with human values. This includes concerns about lethal autonomous weapon systems and the potential for AI to be used in harmful ways.\n",
            "\n",
            "3. **Misinformation**: AI has the potential to generate and spread misinformation, which can affect public opinion and trust in information sources.\n",
            "\n",
            "4. **AI Safety and Alignment**: Ensuring that AI systems operate safely and align with human intentions is a significant challenge, especially as AI systems become more complex and autonomous.\n",
            "\n",
            "5. **Social Dynamics**: The widespread use of AI can change social interactions and dynamics, influencing how people communicate and engage with one another.\n",
            "\n",
            "6. **Existential Risks**: The development of artificial superintelligence poses potential existential risks if such systems are not properly aligned with human values and safety measures.\n",
            "\n",
            "Overall, the impact of AI on society is multifaceted, presenting both opportunities and challenges that require careful consideration and management.\n",
            "\n",
            "=== Sources ===\n",
            "1. https://en.wikipedia.org/wiki/History_of_artificial_intelligence\n",
            "2. https://en.wikipedia.org/wiki/Philosophy_of_artificial_intelligence\n",
            "3. https://en.wikipedia.org/wiki/Artificial_intelligence_in_India\n",
            "4. https://en.wikipedia.org/wiki/Ethics_of_artificial_intelligence\n"
          ]
        }
      ]
    },
    {
      "cell_type": "code",
      "source": [
        "# Save the FAISS vector store to a local file (\"faiss_index_AI\")\n",
        "# This allows reusing the vector store without recalculating embeddings.\n",
        "library.save_local(\"faiss_index_AI\")"
      ],
      "metadata": {
        "id": "7wLqKpnY_LoP"
      },
      "execution_count": 30,
      "outputs": []
    },
    {
      "cell_type": "code",
      "source": [
        "# Load the FAISS vector store from the saved file\n",
        "AI_saved = FAISS.load_local(\"faiss_index_AI\", embedding, allow_dangerous_deserialization=True)"
      ],
      "metadata": {
        "id": "FLw-aAvq_Lq_"
      },
      "execution_count": 33,
      "outputs": []
    },
    {
      "cell_type": "code",
      "source": [
        "# Create a RetrievalQA chain using the loaded FAISS retriever and a language model\n",
        "qa = RetrievalQA.from_chain_type(\n",
        "    llm=ChatOpenAI(model=\"gpt-4o-mini\"),\n",
        "    chain_type=\"stuff\",\n",
        "    retriever=AI_saved.as_retriever(),\n",
        "    return_source_documents=True\n",
        ")"
      ],
      "metadata": {
        "id": "Svqty6fy_LtF"
      },
      "execution_count": 34,
      "outputs": []
    },
    {
      "cell_type": "code",
      "source": [
        "# Use the QA chain to process the query and retrieve results\n",
        "results = qa.invoke(retriever_query)"
      ],
      "metadata": {
        "id": "toC-Pybn_loX"
      },
      "execution_count": 35,
      "outputs": []
    },
    {
      "cell_type": "code",
      "source": [
        "# Process and display the query and result:\n",
        "def display_result(query, result):\n",
        "    print(\"\\n=== Query ===\")\n",
        "    print(query)  # Print the retriever query\n",
        "\n",
        "    print(\"\\n=== Answer ===\")\n",
        "    print(result[\"result\"])  # Print the answer\n",
        "\n",
        "    print(\"\\n=== Sources ===\")\n",
        "    for idx, source in enumerate(result[\"source_documents\"], start=1):\n",
        "        print(f\"{idx}. {source.metadata.get('source', 'Unknown Source')}\")\n",
        "\n",
        "results = qa.invoke(retriever_query)\n",
        "display_result(retriever_query, results)"
      ],
      "metadata": {
        "colab": {
          "base_uri": "https://localhost:8080/"
        },
        "id": "0OqcKG_iEzU1",
        "outputId": "6ee6efa7-0d30-4c0a-b4ef-178c8be2e3cd"
      },
      "execution_count": 38,
      "outputs": [
        {
          "output_type": "stream",
          "name": "stdout",
          "text": [
            "\n",
            "=== Query ===\n",
            "What is the impact of Artificial Intelligence on society?\n",
            "\n",
            "=== Answer ===\n",
            "The impact of Artificial Intelligence on society is multifaceted and encompasses both positive and negative aspects. Some of the potential impacts include:\n",
            "\n",
            "1. **Economic Changes**: AI can lead to increased productivity and efficiency in various industries, potentially driving economic growth. However, it may also result in technological unemployment as certain jobs become automated.\n",
            "\n",
            "2. **Healthcare Improvements**: AI has the potential to revolutionize healthcare by improving diagnostics, personalizing treatment plans, and enhancing research capabilities.\n",
            "\n",
            "3. **Ethical Considerations**: The rise of AI raises important ethical questions, including how to ensure that AI systems behave ethically and the implications of creating lethal autonomous weapon systems.\n",
            "\n",
            "4. **Misinformation and Manipulation**: AI can be used to generate and spread misinformation, posing challenges for public discourse and trust in information sources.\n",
            "\n",
            "5. **Social Inequality**: The benefits of AI may not be evenly distributed, potentially exacerbating social inequalities if access to AI technologies is limited to certain groups.\n",
            "\n",
            "6. **AI Safety and Alignment**: Ensuring that AI systems are safe and aligned with human values is a critical concern, particularly as we advance towards more powerful AI systems.\n",
            "\n",
            "7. **Moral Status of AI**: As AI systems become more advanced, questions about their moral status and rights may arise, leading to debates about AI welfare.\n",
            "\n",
            "8. **Existential Risks**: The development of artificial superintelligence poses potential existential risks that society must consider and address.\n",
            "\n",
            "These impacts highlight the need for careful consideration and proactive measures to harness the benefits of AI while mitigating its risks.\n",
            "\n",
            "=== Sources ===\n",
            "1. https://en.wikipedia.org/wiki/History_of_artificial_intelligence\n",
            "2. https://en.wikipedia.org/wiki/Philosophy_of_artificial_intelligence\n",
            "3. https://en.wikipedia.org/wiki/Artificial_intelligence_in_India\n",
            "4. https://en.wikipedia.org/wiki/Ethics_of_artificial_intelligence\n"
          ]
        }
      ]
    }
  ]
}